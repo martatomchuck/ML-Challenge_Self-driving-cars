{
 "cells": [
  {
   "cell_type": "markdown",
   "metadata": {},
   "source": [
    "# bit.ly/symulator-kod\n",
    "# bit.ly/symulator-model"
   ]
  },
  {
   "cell_type": "code",
   "execution_count": 1,
   "metadata": {},
   "outputs": [
    {
     "name": "stderr",
     "output_type": "stream",
     "text": [
      "Using TensorFlow backend.\n"
     ]
    }
   ],
   "source": [
    "from flask import Flask\n",
    "import eventlet.wsgi\n",
    "import eventlet\n",
    "import socketio\n",
    "import base64\n",
    "from io import BytesIO\n",
    "from PIL import Image\n",
    "import numpy as np\n",
    "from keras.models import load_model\n",
    "import matplotlib.pyplot as plt"
   ]
  },
  {
   "cell_type": "code",
   "execution_count": 6,
   "metadata": {},
   "outputs": [
    {
     "name": "stdout",
     "output_type": "stream",
     "text": [
      "WARNING:tensorflow:From C:\\Users\\Marta\\Anaconda3\\lib\\site-packages\\tensorflow\\python\\framework\\op_def_library.py:263: colocate_with (from tensorflow.python.framework.ops) is deprecated and will be removed in a future version.\n",
      "Instructions for updating:\n",
      "Colocations handled automatically by placer.\n",
      "WARNING:tensorflow:From C:\\Users\\Marta\\Anaconda3\\lib\\site-packages\\keras\\backend\\tensorflow_backend.py:3445: calling dropout (from tensorflow.python.ops.nn_ops) with keep_prob is deprecated and will be removed in a future version.\n",
      "Instructions for updating:\n",
      "Please use `rate` instead of `keep_prob`. Rate should be set to `rate = 1 - keep_prob`.\n",
      "WARNING:tensorflow:From C:\\Users\\Marta\\Anaconda3\\lib\\site-packages\\tensorflow\\python\\ops\\math_ops.py:3066: to_int32 (from tensorflow.python.ops.math_ops) is deprecated and will be removed in a future version.\n",
      "Instructions for updating:\n",
      "Use tf.cast instead.\n"
     ]
    }
   ],
   "source": [
    "model = load_model(r\"C:\\Users\\Marta\\Desktop\\ML\\CHALLENGE 3 Self-driving car\\beta_simulator_windows\\myModel.h5\")"
   ]
  },
  {
   "cell_type": "code",
   "execution_count": 7,
   "metadata": {},
   "outputs": [],
   "source": [
    "sio = socketio.Server()\n",
    "app = Flask(__name__)\n",
    "\n",
    "def send_control(steering_angle, throttle):\n",
    "    sio.emit(\"steer\", data={'steering_angle': str(steering_angle),\n",
    "                            'throttle': str(throttle) }, skip_sid=True)"
   ]
  },
  {
   "cell_type": "code",
   "execution_count": null,
   "metadata": {},
   "outputs": [
    {
     "name": "stderr",
     "output_type": "stream",
     "text": [
      "(11160) wsgi starting up on http://0.0.0.0:4567\n",
      "(11160) accepted ('127.0.0.1', 54287)\n",
      "127.0.0.1 - - [21/May/2019 15:15:03] \"GET /socket.io/?EIO=4&transport=websocket HTTP/1.1\" 200 0 39.981754\n",
      "(11160) accepted ('127.0.0.1', 54297)\n",
      "127.0.0.1 - - [21/May/2019 15:16:07] \"GET /socket.io/?EIO=4&transport=websocket HTTP/1.1\" 200 0 44.774713\n",
      "(11160) accepted ('127.0.0.1', 54336)\n",
      "127.0.0.1 - - [21/May/2019 15:21:04] \"GET /socket.io/?EIO=4&transport=websocket HTTP/1.1\" 200 0 16.615741\n"
     ]
    }
   ],
   "source": [
    "def process_image(img):\n",
    "        return img[10:130:2, ::4, :]\n",
    "\n",
    "\n",
    "@sio.on('telemetry')\n",
    "def telemetry(sid, data):\n",
    "    if data:\n",
    "        speed = float(data[\"speed\"])\n",
    "        image_str = data[\"image\"]\n",
    "\n",
    "        decoded = base64.b64decode(image_str)\n",
    "        image = Image.open(BytesIO(decoded))\n",
    "        image_array = np.asarray(image)\n",
    "        \n",
    "        #print(image_array.shape)\n",
    "        #plt.imshow(image_array)\n",
    "        #plt.show();        \n",
    "        #print(data.keys())\n",
    "        \n",
    "        # model input 60x80x3\n",
    "        img = process_image(image_array)\n",
    "        img_batch = np.expand_dims(img, axis=0)\n",
    "        steering_angle = float(model.predict(img_batch))\n",
    "        \n",
    "        \n",
    "        # kąt\n",
    "        # steering_angle = 0.0  # przyjmuje wartości od -1.0 (w lewo) do 1.0 (w prawo)\n",
    "        # gaz\n",
    "        throttle = 0.1 # przyjmuje wartości z przedziału <0.0, 1.0>\n",
    "\n",
    "        if speed < 10:\n",
    "            throttle = 0.6\n",
    "            \n",
    "        if speed > 15:\n",
    "            throttle = -0.1\n",
    "        \n",
    "        send_control(steering_angle, throttle)\n",
    "    else:\n",
    "        sio.emit('manual', data={}, skip_sid=True)\n",
    "        \n",
    "app = socketio.Middleware(sio, app)\n",
    "eventlet.wsgi.server(eventlet.listen(('', 4567)), app)"
   ]
  },
  {
   "cell_type": "code",
   "execution_count": null,
   "metadata": {},
   "outputs": [],
   "source": []
  },
  {
   "cell_type": "code",
   "execution_count": null,
   "metadata": {},
   "outputs": [],
   "source": []
  }
 ],
 "metadata": {
  "kernelspec": {
   "display_name": "Python 3",
   "language": "python",
   "name": "python3"
  },
  "language_info": {
   "codemirror_mode": {
    "name": "ipython",
    "version": 3
   },
   "file_extension": ".py",
   "mimetype": "text/x-python",
   "name": "python",
   "nbconvert_exporter": "python",
   "pygments_lexer": "ipython3",
   "version": "3.7.3"
  }
 },
 "nbformat": 4,
 "nbformat_minor": 2
}
